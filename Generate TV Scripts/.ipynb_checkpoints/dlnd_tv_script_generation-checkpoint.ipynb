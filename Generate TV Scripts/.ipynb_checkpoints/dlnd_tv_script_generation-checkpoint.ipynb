{
 "cells": [
  {
   "cell_type": "markdown",
   "metadata": {
    "deletable": true,
    "editable": true
   },
   "source": [
    "# TV Script Generation\n",
    "In this project, you'll generate your own [Simpsons](https://en.wikipedia.org/wiki/The_Simpsons) TV scripts using RNNs.  You'll be using part of the [Simpsons dataset](https://www.kaggle.com/wcukierski/the-simpsons-by-the-data) of scripts from 27 seasons.  The Neural Network you'll build will generate a new TV script for a scene at [Moe's Tavern](https://simpsonswiki.com/wiki/Moe's_Tavern).\n",
    "## Get the Data\n",
    "The data is already provided for you.  You'll be using a subset of the original dataset.  It consists of only the scenes in Moe's Tavern.  This doesn't include other versions of the tavern, like \"Moe's Cavern\", \"Flaming Moe's\", \"Uncle Moe's Family Feed-Bag\", etc.."
   ]
  },
  {
   "cell_type": "code",
   "execution_count": 2,
   "metadata": {
    "collapsed": false,
    "deletable": true,
    "editable": true
   },
   "outputs": [],
   "source": [
    "\"\"\"\n",
    "DON'T MODIFY ANYTHING IN THIS CELL\n",
    "\"\"\"\n",
    "import helper\n",
    "\n",
    "data_dir = './data/simpsons/moes_tavern_lines.txt'\n",
    "text = helper.load_data(data_dir)\n",
    "# Ignore notice, since we don't use it for analysing the data\n",
    "text = text[81:]"
   ]
  },
  {
   "cell_type": "markdown",
   "metadata": {
    "deletable": true,
    "editable": true
   },
   "source": [
    "## Explore the Data\n",
    "Play around with `view_sentence_range` to view different parts of the data."
   ]
  },
  {
   "cell_type": "code",
   "execution_count": 3,
   "metadata": {
    "collapsed": false,
    "deletable": true,
    "editable": true
   },
   "outputs": [
    {
     "name": "stdout",
     "output_type": "stream",
     "text": [
      "Dataset Stats\n",
      "Roughly the number of unique words: 11492\n",
      "Number of scenes: 262\n",
      "Average number of sentences in each scene: 15.248091603053435\n",
      "Number of lines: 4257\n",
      "Average number of words in each line: 11.50434578341555\n",
      "\n",
      "The sentences 0 to 10:\n",
      "Moe_Szyslak: (INTO PHONE) Moe's Tavern. Where the elite meet to drink.\n",
      "Bart_Simpson: Eh, yeah, hello, is Mike there? Last name, Rotch.\n",
      "Moe_Szyslak: (INTO PHONE) Hold on, I'll check. (TO BARFLIES) Mike Rotch. Mike Rotch. Hey, has anybody seen Mike Rotch, lately?\n",
      "Moe_Szyslak: (INTO PHONE) Listen you little puke. One of these days I'm gonna catch you, and I'm gonna carve my name on your back with an ice pick.\n",
      "Moe_Szyslak: What's the matter Homer? You're not your normal effervescent self.\n",
      "Homer_Simpson: I got my problems, Moe. Give me another one.\n",
      "Moe_Szyslak: Homer, hey, you should not drink to forget your problems.\n",
      "Barney_Gumble: Yeah, you should only drink to enhance your social skills.\n",
      "\n",
      "\n"
     ]
    }
   ],
   "source": [
    "view_sentence_range = (0, 10)\n",
    "\n",
    "\"\"\"\n",
    "DON'T MODIFY ANYTHING IN THIS CELL\n",
    "\"\"\"\n",
    "import numpy as np\n",
    "\n",
    "print('Dataset Stats')\n",
    "print('Roughly the number of unique words: {}'.format(len({word: None for word in text.split()})))\n",
    "scenes = text.split('\\n\\n')\n",
    "print('Number of scenes: {}'.format(len(scenes)))\n",
    "sentence_count_scene = [scene.count('\\n') for scene in scenes]\n",
    "print('Average number of sentences in each scene: {}'.format(np.average(sentence_count_scene)))\n",
    "\n",
    "sentences = [sentence for scene in scenes for sentence in scene.split('\\n')]\n",
    "print('Number of lines: {}'.format(len(sentences)))\n",
    "word_count_sentence = [len(sentence.split()) for sentence in sentences]\n",
    "print('Average number of words in each line: {}'.format(np.average(word_count_sentence)))\n",
    "\n",
    "print()\n",
    "print('The sentences {} to {}:'.format(*view_sentence_range))\n",
    "print('\\n'.join(text.split('\\n')[view_sentence_range[0]:view_sentence_range[1]]))"
   ]
  },
  {
   "cell_type": "markdown",
   "metadata": {
    "deletable": true,
    "editable": true
   },
   "source": [
    "## Implement Preprocessing Functions\n",
    "The first thing to do to any dataset is preprocessing.  Implement the following preprocessing functions below:\n",
    "- Lookup Table\n",
    "- Tokenize Punctuation\n",
    "\n",
    "### Lookup Table\n",
    "To create a word embedding, you first need to transform the words to ids.  In this function, create two dictionaries:\n",
    "- Dictionary to go from the words to an id, we'll call `vocab_to_int`\n",
    "- Dictionary to go from the id to word, we'll call `int_to_vocab`\n",
    "\n",
    "Return these dictionaries in the following tuple `(vocab_to_int, int_to_vocab)`"
   ]
  },
  {
   "cell_type": "code",
   "execution_count": 4,
   "metadata": {
    "collapsed": false,
    "deletable": true,
    "editable": true
   },
   "outputs": [
    {
     "name": "stdout",
     "output_type": "stream",
     "text": [
      "Tests Passed\n"
     ]
    }
   ],
   "source": [
    "import numpy as np\n",
    "import problem_unittests as tests\n",
    "from collections import Counter\n",
    "\n",
    "def create_lookup_tables(text):\n",
    "    \"\"\"\n",
    "    Create lookup tables for vocabulary\n",
    "    :param text: The text of tv scripts split into words\n",
    "    :return: A tuple of dicts (vocab_to_int, int_to_vocab)\n",
    "    \"\"\"\n",
    "    word_counts = Counter(text)\n",
    "\n",
    "    int_to_vocab = {ii: word for ii, word in enumerate(word_counts)}\n",
    "    vocab_to_int = {word: ii for ii, word in enumerate(word_counts)}\n",
    "    return vocab_to_int,int_to_vocab\n",
    "\n",
    "\n",
    "\"\"\"\n",
    "DON'T MODIFY ANYTHING IN THIS CELL THAT IS BELOW THIS LINE\n",
    "\"\"\"\n",
    "tests.test_create_lookup_tables(create_lookup_tables)"
   ]
  },
  {
   "cell_type": "markdown",
   "metadata": {
    "deletable": true,
    "editable": true
   },
   "source": [
    "### Tokenize Punctuation\n",
    "We'll be splitting the script into a word array using spaces as delimiters.  However, punctuations like periods and exclamation marks make it hard for the neural network to distinguish between the word \"bye\" and \"bye!\".\n",
    "\n",
    "Implement the function `token_lookup` to return a dict that will be used to tokenize symbols like \"!\" into \"||Exclamation_Mark||\".  Create a dictionary for the following symbols where the symbol is the key and value is the token:\n",
    "- Period ( . )\n",
    "- Comma ( , )\n",
    "- Quotation Mark ( \" )\n",
    "- Semicolon ( ; )\n",
    "- Exclamation mark ( ! )\n",
    "- Question mark ( ? )\n",
    "- Left Parentheses ( ( )\n",
    "- Right Parentheses ( ) )\n",
    "- Dash ( -- )\n",
    "- Return ( \\n )\n",
    "\n",
    "This dictionary will be used to token the symbols and add the delimiter (space) around it.  This separates the symbols as it's own word, making it easier for the neural network to predict on the next word. Make sure you don't use a token that could be confused as a word. Instead of using the token \"dash\", try using something like \"||dash||\"."
   ]
  },
  {
   "cell_type": "code",
   "execution_count": 6,
   "metadata": {
    "collapsed": false,
    "deletable": true,
    "editable": true
   },
   "outputs": [
    {
     "name": "stdout",
     "output_type": "stream",
     "text": [
      "Tests Passed\n"
     ]
    }
   ],
   "source": [
    "def token_lookup():\n",
    "    \"\"\"\n",
    "    Generate a dict to turn punctuation into a token.\n",
    "    :return: Tokenize dictionary where the key is the punctuation and the value is the token\n",
    "    \"\"\"\n",
    "    Token={'.':'||Period||',',':'||Comma||','\"':'||QuotationMark||',';':'||Semicolon||','!':'||Exclamationmark||','?':'||Questionmark||','(':'||LeftParentheses||',')':'||RightParentheses||','--':'||Dash||','\\n':'|||Return|'}\n",
    "    return Token\n",
    "\n",
    "\"\"\"\n",
    "DON'T MODIFY ANYTHING IN THIS CELL THAT IS BELOW THIS LINE\n",
    "\"\"\"\n",
    "tests.test_tokenize(token_lookup)"
   ]
  },
  {
   "cell_type": "markdown",
   "metadata": {
    "deletable": true,
    "editable": true
   },
   "source": [
    "## Preprocess all the data and save it\n",
    "Running the code cell below will preprocess all the data and save it to file."
   ]
  },
  {
   "cell_type": "code",
   "execution_count": 7,
   "metadata": {
    "collapsed": false,
    "deletable": true,
    "editable": true
   },
   "outputs": [],
   "source": [
    "\"\"\"\n",
    "DON'T MODIFY ANYTHING IN THIS CELL\n",
    "\"\"\"\n",
    "# Preprocess Training, Validation, and Testing Data\n",
    "helper.preprocess_and_save_data(data_dir, token_lookup, create_lookup_tables)"
   ]
  },
  {
   "cell_type": "markdown",
   "metadata": {
    "deletable": true,
    "editable": true
   },
   "source": [
    "# Check Point\n",
    "This is your first checkpoint. If you ever decide to come back to this notebook or have to restart the notebook, you can start from here. The preprocessed data has been saved to disk."
   ]
  },
  {
   "cell_type": "code",
   "execution_count": 8,
   "metadata": {
    "collapsed": false,
    "deletable": true,
    "editable": true
   },
   "outputs": [],
   "source": [
    "\"\"\"\n",
    "DON'T MODIFY ANYTHING IN THIS CELL\n",
    "\"\"\"\n",
    "import helper\n",
    "import numpy as np\n",
    "import problem_unittests as tests\n",
    "\n",
    "int_text, vocab_to_int, int_to_vocab, token_dict = helper.load_preprocess()"
   ]
  },
  {
   "cell_type": "markdown",
   "metadata": {
    "deletable": true,
    "editable": true
   },
   "source": [
    "## Build the Neural Network\n",
    "You'll build the components necessary to build a RNN by implementing the following functions below:\n",
    "- get_inputs\n",
    "- get_init_cell\n",
    "- get_embed\n",
    "- build_rnn\n",
    "- build_nn\n",
    "- get_batches\n",
    "\n",
    "### Check the Version of TensorFlow and Access to GPU"
   ]
  },
  {
   "cell_type": "code",
   "execution_count": 9,
   "metadata": {
    "collapsed": false,
    "deletable": true,
    "editable": true
   },
   "outputs": [
    {
     "name": "stdout",
     "output_type": "stream",
     "text": [
      "TensorFlow Version: 1.0.0\n",
      "Default GPU Device: /gpu:0\n"
     ]
    }
   ],
   "source": [
    "\"\"\"\n",
    "DON'T MODIFY ANYTHING IN THIS CELL\n",
    "\"\"\"\n",
    "from distutils.version import LooseVersion\n",
    "import warnings\n",
    "import tensorflow as tf\n",
    "\n",
    "# Check TensorFlow Version\n",
    "assert LooseVersion(tf.__version__) >= LooseVersion('1.0'), 'Please use TensorFlow version 1.0 or newer'\n",
    "print('TensorFlow Version: {}'.format(tf.__version__))\n",
    "\n",
    "# Check for a GPU\n",
    "if not tf.test.gpu_device_name():\n",
    "    warnings.warn('No GPU found. Please use a GPU to train your neural network.')\n",
    "else:\n",
    "    print('Default GPU Device: {}'.format(tf.test.gpu_device_name()))"
   ]
  },
  {
   "cell_type": "markdown",
   "metadata": {
    "deletable": true,
    "editable": true
   },
   "source": [
    "### Input\n",
    "Implement the `get_inputs()` function to create TF Placeholders for the Neural Network.  It should create the following placeholders:\n",
    "- Input text placeholder named \"input\" using the [TF Placeholder](https://www.tensorflow.org/api_docs/python/tf/placeholder) `name` parameter.\n",
    "- Targets placeholder\n",
    "- Learning Rate placeholder\n",
    "\n",
    "Return the placeholders in the following the tuple `(Input, Targets, LearingRate)`"
   ]
  },
  {
   "cell_type": "code",
   "execution_count": 10,
   "metadata": {
    "collapsed": false,
    "deletable": true,
    "editable": true
   },
   "outputs": [
    {
     "name": "stdout",
     "output_type": "stream",
     "text": [
      "Tests Passed\n"
     ]
    }
   ],
   "source": [
    "def get_inputs():\n",
    "    \"\"\"\n",
    "    Create TF Placeholders for input, targets, and learning rate.\n",
    "    :return: Tuple (input, targets, learning rate)\n",
    "    \"\"\"\n",
    "    # TODO: Implement Function\n",
    "    Input = tf.placeholder(tf.int32, [None,None], name='input')\n",
    "    Target = tf.placeholder(tf.int32, [None, None], name='target')\n",
    "    LearingRate = tf.placeholder(tf.float32, name='learningrate')\n",
    "    return Input, Target, LearingRate\n",
    "\n",
    "\n",
    "\"\"\"\n",
    "DON'T MODIFY ANYTHING IN THIS CELL THAT IS BELOW THIS LINE\n",
    "\"\"\"\n",
    "tests.test_get_inputs(get_inputs)"
   ]
  },
  {
   "cell_type": "markdown",
   "metadata": {
    "deletable": true,
    "editable": true
   },
   "source": [
    "### Build RNN Cell and Initialize\n",
    "Stack one or more [`BasicLSTMCells`](https://www.tensorflow.org/api_docs/python/tf/contrib/rnn/BasicLSTMCell) in a [`MultiRNNCell`](https://www.tensorflow.org/api_docs/python/tf/contrib/rnn/MultiRNNCell).\n",
    "- The Rnn size should be set using `rnn_size`\n",
    "- Initalize Cell State using the MultiRNNCell's [`zero_state()`](https://www.tensorflow.org/api_docs/python/tf/contrib/rnn/MultiRNNCell#zero_state) function\n",
    "    - Apply the name \"initial_state\" to the initial state using [`tf.identity()`](https://www.tensorflow.org/api_docs/python/tf/identity)\n",
    "\n",
    "Return the cell and initial state in the following tuple `(Cell, InitialState)`"
   ]
  },
  {
   "cell_type": "code",
   "execution_count": 11,
   "metadata": {
    "collapsed": false,
    "deletable": true,
    "editable": true
   },
   "outputs": [
    {
     "name": "stdout",
     "output_type": "stream",
     "text": [
      "Tests Passed\n"
     ]
    }
   ],
   "source": [
    "def get_init_cell(batch_size, rnn_size):\n",
    "    \"\"\"\n",
    "    Create an RNN Cell and initialize it.\n",
    "    :param batch_size: Size of batches\n",
    "    :param rnn_size: Size of RNNs\n",
    "    :return: Tuple (cell, initialize state)\n",
    "    \"\"\"\n",
    "    cell = tf.contrib.rnn.BasicLSTMCell(rnn_size)\n",
    "    drop = \n",
    "    cell = tf.contrib.rnn.MultiRNNCell([cell]*2)\n",
    "    initial_state = cell.zero_state(batch_size, tf.float32)\n",
    "    initial_state = tf.identity(initial_state,name =\"initial_state\")\n",
    "    return cell, initial_state\n",
    "\n",
    "\n",
    "\"\"\"\n",
    "DON'T MODIFY ANYTHING IN THIS CELL THAT IS BELOW THIS LINE\n",
    "\"\"\"\n",
    "tests.test_get_init_cell(get_init_cell)"
   ]
  },
  {
   "cell_type": "markdown",
   "metadata": {
    "deletable": true,
    "editable": true
   },
   "source": [
    "### Word Embedding\n",
    "Apply embedding to `input_data` using TensorFlow.  Return the embedded sequence."
   ]
  },
  {
   "cell_type": "code",
   "execution_count": 12,
   "metadata": {
    "collapsed": false,
    "deletable": true,
    "editable": true
   },
   "outputs": [
    {
     "name": "stdout",
     "output_type": "stream",
     "text": [
      "Tests Passed\n"
     ]
    }
   ],
   "source": [
    "def get_embed(input_data, vocab_size, embed_dim):\n",
    "    \"\"\"\n",
    "    Create embedding for <input_data>.\n",
    "    :param input_data: TF placeholder for text input.\n",
    "    :param vocab_size: Number of words in vocabulary.\n",
    "    :param embed_dim: Number of embedding dimensions\n",
    "    :return: Embedded input.\n",
    "    \"\"\"\n",
    "    embedding = tf.Variable(tf.random_uniform((vocab_size, embed_dim), -1, 1))\n",
    "    embed = tf.nn.embedding_lookup(embedding, input_data)\n",
    "    return embed\n",
    "\n",
    "\n",
    "\"\"\"\n",
    "DON'T MODIFY ANYTHING IN THIS CELL THAT IS BELOW THIS LINE\n",
    "\"\"\"\n",
    "tests.test_get_embed(get_embed)"
   ]
  },
  {
   "cell_type": "markdown",
   "metadata": {
    "deletable": true,
    "editable": true
   },
   "source": [
    "### Build RNN\n",
    "You created a RNN Cell in the `get_init_cell()` function.  Time to use the cell to create a RNN.\n",
    "- Build the RNN using the [`tf.nn.dynamic_rnn()`](https://www.tensorflow.org/api_docs/python/tf/nn/dynamic_rnn)\n",
    " - Apply the name \"final_state\" to the final state using [`tf.identity()`](https://www.tensorflow.org/api_docs/python/tf/identity)\n",
    "\n",
    "Return the outputs and final_state state in the following tuple `(Outputs, FinalState)` "
   ]
  },
  {
   "cell_type": "code",
   "execution_count": 13,
   "metadata": {
    "collapsed": false,
    "deletable": true,
    "editable": true
   },
   "outputs": [
    {
     "name": "stdout",
     "output_type": "stream",
     "text": [
      "Tests Passed\n"
     ]
    }
   ],
   "source": [
    "def build_rnn(cell, inputs):\n",
    "    \"\"\"\n",
    "    Create a RNN using a RNN Cell\n",
    "    :param cell: RNN Cell\n",
    "    :param inputs: Input text data\n",
    "    :return: Tuple (Outputs, Final State)\n",
    "    \"\"\"\n",
    "    outputs, final_state = tf.nn.dynamic_rnn(cell, inputs, dtype = tf.float32)\n",
    "    final_state = tf.identity(final_state,name = 'final_state')\n",
    "    return outputs, final_state\n",
    "\n",
    "\n",
    "\"\"\"\n",
    "DON'T MODIFY ANYTHING IN THIS CELL THAT IS BELOW THIS LINE\n",
    "\"\"\"\n",
    "tests.test_build_rnn(build_rnn)"
   ]
  },
  {
   "cell_type": "markdown",
   "metadata": {
    "deletable": true,
    "editable": true
   },
   "source": [
    "### Build the Neural Network\n",
    "Apply the functions you implemented above to:\n",
    "- Apply embedding to `input_data` using your `get_embed(input_data, vocab_size, embed_dim)` function.\n",
    "- Build RNN using `cell` and your `build_rnn(cell, inputs)` function.\n",
    "- Apply a fully connected layer with a linear activation and `vocab_size` as the number of outputs.\n",
    "\n",
    "Return the logits and final state in the following tuple (Logits, FinalState) "
   ]
  },
  {
   "cell_type": "code",
   "execution_count": 14,
   "metadata": {
    "collapsed": false,
    "deletable": true,
    "editable": true
   },
   "outputs": [
    {
     "name": "stdout",
     "output_type": "stream",
     "text": [
      "Tests Passed\n"
     ]
    }
   ],
   "source": [
    "def build_nn(cell, rnn_size, input_data, vocab_size):\n",
    "    \"\"\"\n",
    "    Build part of the neural network\n",
    "    :param cell: RNN cell\n",
    "    :param rnn_size: Size of rnns\n",
    "    :param input_data: Input data\n",
    "    :param vocab_size: Vocabulary size\n",
    "    :return: Tuple (Logits, FinalState)\n",
    "    \"\"\"\n",
    "    embedded = get_embed(input_data=input_data, \n",
    "                         vocab_size=vocab_size, \n",
    "                         embed_dim=256)\n",
    "\n",
    "    outputs, final_state = build_rnn(cell=cell, inputs=embedded)\n",
    " \n",
    "    logits = tf.contrib.layers.fully_connected(outputs, vocab_size, activation_fn=None)\n",
    "    return logits, final_state\n",
    "\n",
    "\n",
    "\"\"\"\n",
    "DON'T MODIFY ANYTHING IN THIS CELL THAT IS BELOW THIS LINE\n",
    "\"\"\"\n",
    "tests.test_build_nn(build_nn)"
   ]
  },
  {
   "cell_type": "markdown",
   "metadata": {
    "deletable": true,
    "editable": true
   },
   "source": [
    "### Batches\n",
    "Implement `get_batches` to create batches of input and targets using `int_text`.  The batches should be a Numpy array with the shape `(number of batches, 2, batch size, sequence length)`. Each batch contains two elements:\n",
    "- The first element is a single batch of **input** with the shape `[batch size, sequence length]`\n",
    "- The second element is a single batch of **targets** with the shape `[batch size, sequence length]`\n",
    "\n",
    "If you can't fill the last batch with enough data, drop the last batch.\n",
    "\n",
    "For exmple, `get_batches([1, 2, 3, 4, 5, 6, 7, 8, 9, 10, 11, 12, 13, 14, 15], 2, 3)` would return a Numpy array of the following:\n",
    "```\n",
    "[\n",
    "  # First Batch\n",
    "  [\n",
    "    # Batch of Input\n",
    "    [[ 1  2  3], [ 7  8  9]],\n",
    "    # Batch of targets\n",
    "    [[ 2  3  4], [ 8  9 10]]\n",
    "  ],\n",
    " \n",
    "  # Second Batch\n",
    "  [\n",
    "    # Batch of Input\n",
    "    [[ 4  5  6], [10 11 12]],\n",
    "    # Batch of targets\n",
    "    [[ 5  6  7], [11 12 13]]\n",
    "  ]\n",
    "]\n",
    "```"
   ]
  },
  {
   "cell_type": "code",
   "execution_count": 15,
   "metadata": {
    "collapsed": false,
    "deletable": true,
    "editable": true
   },
   "outputs": [
    {
     "name": "stdout",
     "output_type": "stream",
     "text": [
      "len(int_text),bacht_size,seq_length,n_batch:5000-128-5-7\n",
      "full_text_len:4481\n",
      "text_input_shape:(4480,)\n",
      "total_batch.shape:(7, 2, 128, 5)\n",
      "Tests Passed\n"
     ]
    }
   ],
   "source": [
    "def get_batches(int_text, batch_size, seq_length):\n",
    "    \"\"\"\n",
    "    Return batches of input and target\n",
    "    :param int_text: Text with the words replaced by their ids\n",
    "    :param batch_size: The size of batch\n",
    "    :param seq_length: The length of sequence\n",
    "    :return: Batches as a Numpy array\n",
    "    \"\"\"\n",
    "    # TODO: Implement Function\n",
    "    n_batch=(len(int_text)-1)//(seq_length*batch_size)\n",
    "    print('len(int_text),bacht_size,seq_length,n_batch:{0}-{1}-{2}-{3}'.format(len(int_text),batch_size,seq_length,n_batch))\n",
    "    int_text=int_text[:n_batch*seq_length*batch_size+1]\n",
    "    print('full_text_len:{0}'.format(len(int_text)))\n",
    "    \n",
    "    text_input=np.array((int_text[:-1]))\n",
    "    print('text_input_shape:{0}'.format(text_input.shape))\n",
    "    text_input=np.reshape(text_input,(n_batch,batch_size,seq_length))  \n",
    "    \n",
    "    text_target=np.array(int_text[1:])\n",
    "    text_target=np.reshape(text_target,(n_batch,batch_size,seq_length))\n",
    "    \n",
    "    \n",
    "    for i in range(n_batch):\n",
    "        if i ==0:\n",
    "            each_batch=np.append([text_input[i]],[text_target[i]],axis=0)\n",
    "            total_batch=each_batch\n",
    "        else:\n",
    "            each_batch=np.append([text_input[i]],[text_target[i]],axis=0)\n",
    "            total_batch= np.vstack((total_batch,each_batch))\n",
    "    total_batch=np.reshape(total_batch,(n_batch,2,batch_size,seq_length))\n",
    "    print('total_batch.shape:{0}'.format(total_batch.shape))\n",
    "        \n",
    "        \n",
    "        \n",
    "    \n",
    "    return total_batch\n",
    "\n",
    "\n",
    "\"\"\"\n",
    "DON'T MODIFY ANYTHING IN THIS CELL THAT IS BELOW THIS LINE\n",
    "\"\"\"\n",
    "tests.test_get_batches(get_batches)"
   ]
  },
  {
   "cell_type": "markdown",
   "metadata": {
    "deletable": true,
    "editable": true
   },
   "source": [
    "## Neural Network Training\n",
    "### Hyperparameters\n",
    "Tune the following parameters:\n",
    "\n",
    "- Set `num_epochs` to the number of epochs.\n",
    "- Set `batch_size` to the batch size.\n",
    "- Set `rnn_size` to the size of the RNNs.\n",
    "- Set `seq_length` to the length of sequence.\n",
    "- Set `learning_rate` to the learning rate.\n",
    "- Set `show_every_n_batches` to the number of batches the neural network should print progress."
   ]
  },
  {
   "cell_type": "code",
   "execution_count": 16,
   "metadata": {
    "collapsed": true,
    "deletable": true,
    "editable": true
   },
   "outputs": [],
   "source": [
    "# Number of Epochs\n",
    "num_epochs = 200\n",
    "# Batch Size\n",
    "batch_size = 128\n",
    "# RNN Size\n",
    "rnn_size = 500\n",
    "# Sequence Length\n",
    "seq_length = 10\n",
    "# Learning Rate\n",
    "learning_rate = 0.001\n",
    "# Show stats for every n number of batches\n",
    "show_every_n_batches = 50\n",
    "\n",
    "\"\"\"\n",
    "DON'T MODIFY ANYTHING IN THIS CELL THAT IS BELOW THIS LINE\n",
    "\"\"\"\n",
    "save_dir = './save'"
   ]
  },
  {
   "cell_type": "markdown",
   "metadata": {
    "deletable": true,
    "editable": true
   },
   "source": [
    "### Build the Graph\n",
    "Build the graph using the neural network you implemented."
   ]
  },
  {
   "cell_type": "code",
   "execution_count": 17,
   "metadata": {
    "collapsed": false,
    "deletable": true,
    "editable": true
   },
   "outputs": [],
   "source": [
    "\"\"\"\n",
    "DON'T MODIFY ANYTHING IN THIS CELL\n",
    "\"\"\"\n",
    "from tensorflow.contrib import seq2seq\n",
    "\n",
    "train_graph = tf.Graph()\n",
    "with train_graph.as_default():\n",
    "    vocab_size = len(int_to_vocab)\n",
    "    input_text, targets, lr = get_inputs()\n",
    "    input_data_shape = tf.shape(input_text)\n",
    "    cell, initial_state = get_init_cell(input_data_shape[0], rnn_size)\n",
    "    logits, final_state = build_nn(cell, rnn_size, input_text, vocab_size)\n",
    "\n",
    "    # Probabilities for generating words\n",
    "    probs = tf.nn.softmax(logits, name='probs')\n",
    "\n",
    "    # Loss function\n",
    "    cost = seq2seq.sequence_loss(\n",
    "        logits,\n",
    "        targets,\n",
    "        tf.ones([input_data_shape[0], input_data_shape[1]]))\n",
    "\n",
    "    # Optimizer\n",
    "    optimizer = tf.train.AdamOptimizer(lr)\n",
    "\n",
    "    # Gradient Clipping\n",
    "    gradients = optimizer.compute_gradients(cost)\n",
    "    capped_gradients = [(tf.clip_by_value(grad, -1., 1.), var) for grad, var in gradients]\n",
    "    train_op = optimizer.apply_gradients(capped_gradients)"
   ]
  },
  {
   "cell_type": "markdown",
   "metadata": {
    "deletable": true,
    "editable": true
   },
   "source": [
    "## Train\n",
    "Train the neural network on the preprocessed data.  If you have a hard time getting a good loss, check the [forms](https://discussions.udacity.com/) to see if anyone is having the same problem."
   ]
  },
  {
   "cell_type": "code",
   "execution_count": 18,
   "metadata": {
    "collapsed": false,
    "deletable": true,
    "editable": true
   },
   "outputs": [
    {
     "name": "stdout",
     "output_type": "stream",
     "text": [
      "len(int_text),bacht_size,seq_length,n_batch:69100-128-10-53\n",
      "full_text_len:67841\n",
      "text_input_shape:(67840,)\n",
      "total_batch.shape:(53, 2, 128, 10)\n",
      "Epoch   0 Batch    0/53   train_loss = 8.822\n",
      "Epoch   0 Batch   50/53   train_loss = 6.784\n",
      "Epoch   1 Batch   47/53   train_loss = 6.181\n",
      "Epoch   2 Batch   44/53   train_loss = 6.171\n",
      "Epoch   3 Batch   41/53   train_loss = 5.895\n",
      "Epoch   4 Batch   38/53   train_loss = 5.695\n",
      "Epoch   5 Batch   35/53   train_loss = 5.357\n",
      "Epoch   6 Batch   32/53   train_loss = 5.104\n",
      "Epoch   7 Batch   29/53   train_loss = 5.027\n",
      "Epoch   8 Batch   26/53   train_loss = 4.865\n",
      "Epoch   9 Batch   23/53   train_loss = 4.749\n",
      "Epoch  10 Batch   20/53   train_loss = 4.438\n",
      "Epoch  11 Batch   17/53   train_loss = 4.522\n",
      "Epoch  12 Batch   14/53   train_loss = 4.341\n",
      "Epoch  13 Batch   11/53   train_loss = 4.497\n",
      "Epoch  14 Batch    8/53   train_loss = 4.296\n",
      "Epoch  15 Batch    5/53   train_loss = 4.191\n",
      "Epoch  16 Batch    2/53   train_loss = 4.274\n",
      "Epoch  16 Batch   52/53   train_loss = 3.996\n",
      "Epoch  17 Batch   49/53   train_loss = 4.095\n",
      "Epoch  18 Batch   46/53   train_loss = 3.801\n",
      "Epoch  19 Batch   43/53   train_loss = 3.705\n",
      "Epoch  20 Batch   40/53   train_loss = 3.724\n",
      "Epoch  21 Batch   37/53   train_loss = 3.653\n",
      "Epoch  22 Batch   34/53   train_loss = 3.523\n",
      "Epoch  23 Batch   31/53   train_loss = 3.476\n",
      "Epoch  24 Batch   28/53   train_loss = 3.390\n",
      "Epoch  25 Batch   25/53   train_loss = 3.265\n",
      "Epoch  26 Batch   22/53   train_loss = 3.045\n",
      "Epoch  27 Batch   19/53   train_loss = 3.014\n",
      "Epoch  28 Batch   16/53   train_loss = 2.929\n",
      "Epoch  29 Batch   13/53   train_loss = 2.892\n",
      "Epoch  30 Batch   10/53   train_loss = 2.632\n",
      "Epoch  31 Batch    7/53   train_loss = 2.630\n",
      "Epoch  32 Batch    4/53   train_loss = 2.486\n",
      "Epoch  33 Batch    1/53   train_loss = 2.397\n",
      "Epoch  33 Batch   51/53   train_loss = 2.407\n",
      "Epoch  34 Batch   48/53   train_loss = 2.198\n",
      "Epoch  35 Batch   45/53   train_loss = 2.182\n",
      "Epoch  36 Batch   42/53   train_loss = 1.964\n",
      "Epoch  37 Batch   39/53   train_loss = 1.780\n",
      "Epoch  38 Batch   36/53   train_loss = 1.887\n",
      "Epoch  39 Batch   33/53   train_loss = 1.752\n",
      "Epoch  40 Batch   30/53   train_loss = 1.744\n",
      "Epoch  41 Batch   27/53   train_loss = 1.726\n",
      "Epoch  42 Batch   24/53   train_loss = 1.579\n",
      "Epoch  43 Batch   21/53   train_loss = 1.568\n",
      "Epoch  44 Batch   18/53   train_loss = 1.520\n",
      "Epoch  45 Batch   15/53   train_loss = 1.366\n",
      "Epoch  46 Batch   12/53   train_loss = 1.414\n",
      "Epoch  47 Batch    9/53   train_loss = 1.233\n",
      "Epoch  48 Batch    6/53   train_loss = 1.226\n",
      "Epoch  49 Batch    3/53   train_loss = 1.151\n",
      "Epoch  50 Batch    0/53   train_loss = 1.083\n",
      "Epoch  50 Batch   50/53   train_loss = 0.943\n",
      "Epoch  51 Batch   47/53   train_loss = 0.923\n",
      "Epoch  52 Batch   44/53   train_loss = 0.841\n",
      "Epoch  53 Batch   41/53   train_loss = 0.838\n",
      "Epoch  54 Batch   38/53   train_loss = 0.783\n",
      "Epoch  55 Batch   35/53   train_loss = 0.767\n",
      "Epoch  56 Batch   32/53   train_loss = 0.754\n",
      "Epoch  57 Batch   29/53   train_loss = 0.665\n",
      "Epoch  58 Batch   26/53   train_loss = 0.633\n",
      "Epoch  59 Batch   23/53   train_loss = 0.635\n",
      "Epoch  60 Batch   20/53   train_loss = 0.638\n",
      "Epoch  61 Batch   17/53   train_loss = 0.572\n",
      "Epoch  62 Batch   14/53   train_loss = 0.584\n",
      "Epoch  63 Batch   11/53   train_loss = 0.536\n",
      "Epoch  64 Batch    8/53   train_loss = 0.504\n",
      "Epoch  65 Batch    5/53   train_loss = 0.510\n",
      "Epoch  66 Batch    2/53   train_loss = 0.474\n",
      "Epoch  66 Batch   52/53   train_loss = 0.539\n",
      "Epoch  67 Batch   49/53   train_loss = 0.489\n",
      "Epoch  68 Batch   46/53   train_loss = 0.480\n",
      "Epoch  69 Batch   43/53   train_loss = 0.443\n",
      "Epoch  70 Batch   40/53   train_loss = 0.495\n",
      "Epoch  71 Batch   37/53   train_loss = 0.436\n",
      "Epoch  72 Batch   34/53   train_loss = 0.438\n",
      "Epoch  73 Batch   31/53   train_loss = 0.436\n",
      "Epoch  74 Batch   28/53   train_loss = 0.457\n",
      "Epoch  75 Batch   25/53   train_loss = 0.410\n",
      "Epoch  76 Batch   22/53   train_loss = 0.439\n",
      "Epoch  77 Batch   19/53   train_loss = 0.433\n",
      "Epoch  78 Batch   16/53   train_loss = 0.425\n",
      "Epoch  79 Batch   13/53   train_loss = 0.395\n",
      "Epoch  80 Batch   10/53   train_loss = 0.394\n",
      "Epoch  81 Batch    7/53   train_loss = 0.401\n",
      "Epoch  82 Batch    4/53   train_loss = 0.406\n",
      "Epoch  83 Batch    1/53   train_loss = 0.413\n",
      "Epoch  83 Batch   51/53   train_loss = 0.408\n",
      "Epoch  84 Batch   48/53   train_loss = 0.430\n",
      "Epoch  85 Batch   45/53   train_loss = 0.390\n",
      "Epoch  86 Batch   42/53   train_loss = 0.366\n",
      "Epoch  87 Batch   39/53   train_loss = 0.379\n",
      "Epoch  88 Batch   36/53   train_loss = 0.388\n",
      "Epoch  89 Batch   33/53   train_loss = 0.417\n",
      "Epoch  90 Batch   30/53   train_loss = 0.388\n",
      "Epoch  91 Batch   27/53   train_loss = 0.365\n",
      "Epoch  92 Batch   24/53   train_loss = 0.388\n",
      "Epoch  93 Batch   21/53   train_loss = 0.414\n",
      "Epoch  94 Batch   18/53   train_loss = 0.395\n",
      "Epoch  95 Batch   15/53   train_loss = 0.382\n",
      "Epoch  96 Batch   12/53   train_loss = 0.403\n",
      "Epoch  97 Batch    9/53   train_loss = 0.394\n",
      "Epoch  98 Batch    6/53   train_loss = 0.383\n",
      "Epoch  99 Batch    3/53   train_loss = 0.416\n",
      "Epoch 100 Batch    0/53   train_loss = 0.386\n",
      "Epoch 100 Batch   50/53   train_loss = 0.364\n",
      "Epoch 101 Batch   47/53   train_loss = 0.357\n",
      "Epoch 102 Batch   44/53   train_loss = 0.371\n",
      "Epoch 103 Batch   41/53   train_loss = 0.380\n",
      "Epoch 104 Batch   38/53   train_loss = 0.330\n",
      "Epoch 105 Batch   35/53   train_loss = 0.362\n",
      "Epoch 106 Batch   32/53   train_loss = 0.405\n",
      "Epoch 107 Batch   29/53   train_loss = 0.380\n",
      "Epoch 108 Batch   26/53   train_loss = 0.351\n",
      "Epoch 109 Batch   23/53   train_loss = 0.380\n",
      "Epoch 110 Batch   20/53   train_loss = 0.375\n",
      "Epoch 111 Batch   17/53   train_loss = 0.351\n",
      "Epoch 112 Batch   14/53   train_loss = 0.383\n",
      "Epoch 113 Batch   11/53   train_loss = 0.350\n",
      "Epoch 114 Batch    8/53   train_loss = 0.351\n",
      "Epoch 115 Batch    5/53   train_loss = 0.376\n",
      "Epoch 116 Batch    2/53   train_loss = 0.387\n",
      "Epoch 116 Batch   52/53   train_loss = 0.474\n",
      "Epoch 117 Batch   49/53   train_loss = 0.462\n",
      "Epoch 118 Batch   46/53   train_loss = 0.438\n",
      "Epoch 119 Batch   43/53   train_loss = 0.376\n",
      "Epoch 120 Batch   40/53   train_loss = 0.427\n",
      "Epoch 121 Batch   37/53   train_loss = 0.362\n",
      "Epoch 122 Batch   34/53   train_loss = 0.372\n",
      "Epoch 123 Batch   31/53   train_loss = 0.372\n",
      "Epoch 124 Batch   28/53   train_loss = 0.390\n",
      "Epoch 125 Batch   25/53   train_loss = 0.361\n",
      "Epoch 126 Batch   22/53   train_loss = 0.382\n",
      "Epoch 127 Batch   19/53   train_loss = 0.379\n",
      "Epoch 128 Batch   16/53   train_loss = 0.378\n",
      "Epoch 129 Batch   13/53   train_loss = 0.354\n",
      "Epoch 130 Batch   10/53   train_loss = 0.363\n",
      "Epoch 131 Batch    7/53   train_loss = 0.367\n",
      "Epoch 132 Batch    4/53   train_loss = 0.368\n",
      "Epoch 133 Batch    1/53   train_loss = 0.378\n",
      "Epoch 133 Batch   51/53   train_loss = 0.372\n",
      "Epoch 134 Batch   48/53   train_loss = 0.397\n",
      "Epoch 135 Batch   45/53   train_loss = 0.366\n",
      "Epoch 136 Batch   42/53   train_loss = 0.345\n",
      "Epoch 137 Batch   39/53   train_loss = 0.354\n",
      "Epoch 138 Batch   36/53   train_loss = 0.360\n",
      "Epoch 139 Batch   33/53   train_loss = 0.389\n",
      "Epoch 140 Batch   30/53   train_loss = 0.366\n",
      "Epoch 141 Batch   27/53   train_loss = 0.344\n",
      "Epoch 142 Batch   24/53   train_loss = 0.367\n",
      "Epoch 143 Batch   21/53   train_loss = 0.390\n",
      "Epoch 144 Batch   18/53   train_loss = 0.372\n",
      "Epoch 145 Batch   15/53   train_loss = 0.364\n",
      "Epoch 146 Batch   12/53   train_loss = 0.377\n",
      "Epoch 147 Batch    9/53   train_loss = 0.377\n",
      "Epoch 148 Batch    6/53   train_loss = 0.361\n",
      "Epoch 149 Batch    3/53   train_loss = 0.398\n",
      "Epoch 150 Batch    0/53   train_loss = 0.369\n",
      "Epoch 150 Batch   50/53   train_loss = 0.347\n",
      "Epoch 151 Batch   47/53   train_loss = 0.339\n",
      "Epoch 152 Batch   44/53   train_loss = 0.355\n",
      "Epoch 153 Batch   41/53   train_loss = 0.363\n",
      "Epoch 154 Batch   38/53   train_loss = 0.315\n",
      "Epoch 155 Batch   35/53   train_loss = 0.345\n",
      "Epoch 156 Batch   32/53   train_loss = 0.391\n",
      "Epoch 157 Batch   29/53   train_loss = 0.361\n",
      "Epoch 158 Batch   26/53   train_loss = 0.332\n",
      "Epoch 159 Batch   23/53   train_loss = 0.355\n",
      "Epoch 160 Batch   20/53   train_loss = 0.357\n",
      "Epoch 161 Batch   17/53   train_loss = 0.337\n",
      "Epoch 162 Batch   14/53   train_loss = 0.364\n",
      "Epoch 163 Batch   11/53   train_loss = 0.333\n",
      "Epoch 164 Batch    8/53   train_loss = 0.328\n",
      "Epoch 165 Batch    5/53   train_loss = 0.351\n",
      "Epoch 166 Batch    2/53   train_loss = 0.345\n",
      "Epoch 166 Batch   52/53   train_loss = 0.408\n",
      "Epoch 167 Batch   49/53   train_loss = 0.389\n",
      "Epoch 168 Batch   46/53   train_loss = 0.378\n",
      "Epoch 169 Batch   43/53   train_loss = 0.347\n",
      "Epoch 170 Batch   40/53   train_loss = 0.407\n",
      "Epoch 171 Batch   37/53   train_loss = 0.346\n",
      "Epoch 172 Batch   34/53   train_loss = 0.359\n",
      "Epoch 173 Batch   31/53   train_loss = 0.362\n",
      "Epoch 174 Batch   28/53   train_loss = 0.375\n",
      "Epoch 175 Batch   25/53   train_loss = 0.347\n",
      "Epoch 176 Batch   22/53   train_loss = 0.372\n",
      "Epoch 177 Batch   19/53   train_loss = 0.363\n",
      "Epoch 178 Batch   16/53   train_loss = 0.370\n",
      "Epoch 179 Batch   13/53   train_loss = 0.344\n",
      "Epoch 180 Batch   10/53   train_loss = 0.352\n",
      "Epoch 181 Batch    7/53   train_loss = 0.360\n",
      "Epoch 182 Batch    4/53   train_loss = 0.362\n",
      "Epoch 183 Batch    1/53   train_loss = 0.373\n",
      "Epoch 183 Batch   51/53   train_loss = 0.367\n",
      "Epoch 184 Batch   48/53   train_loss = 0.402\n",
      "Epoch 185 Batch   45/53   train_loss = 0.383\n",
      "Epoch 186 Batch   42/53   train_loss = 0.450\n",
      "Epoch 187 Batch   39/53   train_loss = 0.503\n",
      "Epoch 188 Batch   36/53   train_loss = 0.438\n",
      "Epoch 189 Batch   33/53   train_loss = 0.413\n",
      "Epoch 190 Batch   30/53   train_loss = 0.374\n",
      "Epoch 191 Batch   27/53   train_loss = 0.345\n",
      "Epoch 192 Batch   24/53   train_loss = 0.366\n",
      "Epoch 193 Batch   21/53   train_loss = 0.387\n",
      "Epoch 194 Batch   18/53   train_loss = 0.370\n",
      "Epoch 195 Batch   15/53   train_loss = 0.359\n",
      "Epoch 196 Batch   12/53   train_loss = 0.373\n",
      "Epoch 197 Batch    9/53   train_loss = 0.373\n",
      "Epoch 198 Batch    6/53   train_loss = 0.357\n",
      "Epoch 199 Batch    3/53   train_loss = 0.393\n",
      "Model Trained and Saved\n"
     ]
    }
   ],
   "source": [
    "\"\"\"\n",
    "DON'T MODIFY ANYTHING IN THIS CELL\n",
    "\"\"\"\n",
    "batches = get_batches(int_text, batch_size, seq_length)\n",
    "\n",
    "with tf.Session(graph=train_graph) as sess:\n",
    "    sess.run(tf.global_variables_initializer())\n",
    "\n",
    "    for epoch_i in range(num_epochs):\n",
    "        state = sess.run(initial_state, {input_text: batches[0][0]})\n",
    "\n",
    "        for batch_i, (x, y) in enumerate(batches):\n",
    "            feed = {\n",
    "                input_text: x,\n",
    "                targets: y,\n",
    "                initial_state: state,\n",
    "                lr: learning_rate}\n",
    "            train_loss, state, _ = sess.run([cost, final_state, train_op], feed)\n",
    "\n",
    "            # Show every <show_every_n_batches> batches\n",
    "            if (epoch_i * len(batches) + batch_i) % show_every_n_batches == 0:\n",
    "                print('Epoch {:>3} Batch {:>4}/{}   train_loss = {:.3f}'.format(\n",
    "                    epoch_i,\n",
    "                    batch_i,\n",
    "                    len(batches),\n",
    "                    train_loss))\n",
    "\n",
    "    # Save Model\n",
    "    saver = tf.train.Saver()\n",
    "    saver.save(sess, save_dir)\n",
    "    print('Model Trained and Saved')"
   ]
  },
  {
   "cell_type": "markdown",
   "metadata": {
    "deletable": true,
    "editable": true
   },
   "source": [
    "## Save Parameters\n",
    "Save `seq_length` and `save_dir` for generating a new TV script."
   ]
  },
  {
   "cell_type": "code",
   "execution_count": 19,
   "metadata": {
    "collapsed": false,
    "deletable": true,
    "editable": true
   },
   "outputs": [],
   "source": [
    "\"\"\"\n",
    "DON'T MODIFY ANYTHING IN THIS CELL\n",
    "\"\"\"\n",
    "# Save parameters for checkpoint\n",
    "helper.save_params((seq_length, save_dir))"
   ]
  },
  {
   "cell_type": "markdown",
   "metadata": {
    "deletable": true,
    "editable": true
   },
   "source": [
    "# Checkpoint"
   ]
  },
  {
   "cell_type": "code",
   "execution_count": 10,
   "metadata": {
    "collapsed": false,
    "deletable": true,
    "editable": true
   },
   "outputs": [],
   "source": [
    "\"\"\"\n",
    "DON'T MODIFY ANYTHING IN THIS CELL\n",
    "\"\"\"\n",
    "import tensorflow as tf\n",
    "import numpy as np\n",
    "import helper\n",
    "import problem_unittests as tests\n",
    "\n",
    "_, vocab_to_int, int_to_vocab, token_dict = helper.load_preprocess()\n",
    "seq_length, load_dir = helper.load_params()"
   ]
  },
  {
   "cell_type": "markdown",
   "metadata": {
    "deletable": true,
    "editable": true
   },
   "source": [
    "## Implement Generate Functions\n",
    "### Get Tensors\n",
    "Get tensors from `loaded_graph` using the function [`get_tensor_by_name()`](https://www.tensorflow.org/api_docs/python/tf/Graph#get_tensor_by_name).  Get the tensors using the following names:\n",
    "- \"input:0\"\n",
    "- \"initial_state:0\"\n",
    "- \"final_state:0\"\n",
    "- \"probs:0\"\n",
    "\n",
    "Return the tensors in the following tuple `(InputTensor, InitialStateTensor, FinalStateTensor, ProbsTensor)` "
   ]
  },
  {
   "cell_type": "code",
   "execution_count": 7,
   "metadata": {
    "collapsed": false,
    "deletable": true,
    "editable": true
   },
   "outputs": [
    {
     "name": "stdout",
     "output_type": "stream",
     "text": [
      "Tests Passed\n"
     ]
    }
   ],
   "source": [
    "def get_tensors(loaded_graph):\n",
    "    \"\"\"\n",
    "    Get input, initial state, final state, and probabilities tensor from <loaded_graph>\n",
    "    :param loaded_graph: TensorFlow graph loaded from file\n",
    "    :return: Tuple (InputTensor, InitialStateTensor, FinalStateTensor, ProbsTensor)\n",
    "    \"\"\"\n",
    "    # TODO: Implement Function\n",
    "    InputTensor=loaded_graph.get_tensor_by_name('input:0')\n",
    "    InitialStateTensor=loaded_graph.get_tensor_by_name('initial_state:0')\n",
    "    FinalStateTensor=loaded_graph.get_tensor_by_name('final_state:0')\n",
    "    ProbsTensor=loaded_graph.get_tensor_by_name('probs:0')\n",
    "    return InputTensor, InitialStateTensor, FinalStateTensor, ProbsTensor\n",
    "\n",
    "\n",
    "\"\"\"\n",
    "DON'T MODIFY ANYTHING IN THIS CELL THAT IS BELOW THIS LINE\n",
    "\"\"\"\n",
    "tests.test_get_tensors(get_tensors)"
   ]
  },
  {
   "cell_type": "markdown",
   "metadata": {
    "deletable": true,
    "editable": true
   },
   "source": [
    "### Choose Word\n",
    "Implement the `pick_word()` function to select the next word using `probabilities`."
   ]
  },
  {
   "cell_type": "code",
   "execution_count": 6,
   "metadata": {
    "collapsed": false,
    "deletable": true,
    "editable": true
   },
   "outputs": [
    {
     "name": "stdout",
     "output_type": "stream",
     "text": [
      "Tests Passed\n"
     ]
    }
   ],
   "source": [
    "def pick_word(probabilities, int_to_vocab):\n",
    "    \"\"\"\n",
    "    Pick the next word in the generated text\n",
    "    :param probabilities: Probabilites of the next word\n",
    "    :param int_to_vocab: Dictionary of word ids as the keys and words as the values\n",
    "    :return: String of the predicted word\n",
    "    \"\"\"\n",
    "    # TODO: Implement Function\n",
    "    \n",
    "    \n",
    "    idx = np.random.choice(list(int_to_vocab), 1, p=probabilities)\n",
    "   \n",
    "    for i in idx:\n",
    "        next_word=int_to_vocab[i]\n",
    "    return next_word\n",
    "\n",
    "\n",
    "\"\"\"\n",
    "DON'T MODIFY ANYTHING IN THIS CELL THAT IS BELOW THIS LINE\n",
    "\"\"\"\n",
    "tests.test_pick_word(pick_word)"
   ]
  },
  {
   "cell_type": "markdown",
   "metadata": {
    "deletable": true,
    "editable": true
   },
   "source": [
    "## Generate TV Script\n",
    "This will generate the TV script for you.  Set `gen_length` to the length of TV script you want to generate."
   ]
  },
  {
   "cell_type": "code",
   "execution_count": 11,
   "metadata": {
    "collapsed": false,
    "deletable": true,
    "editable": true
   },
   "outputs": [
    {
     "name": "stdout",
     "output_type": "stream",
     "text": [
      "moe_szyslak: that's two hundred grand! that's fifty thousand bucks each denver.\n",
      "tv_husband:(from tv) let's find it?\n",
      "\n",
      "\n",
      "moe_szyslak:(under him) huh?\n",
      "\n",
      "\n",
      "homer_simpson: don't worry. i don't want that in my drink?\n",
      "moe_szyslak: well, somebody's a grumpy gus, carl.\n",
      "moe_szyslak: now, why don't you mind what's are the hospital.\n",
      "homer_simpson:(chuckles) yeah, i don't know. i open no alcohol machine.\n",
      "kemi:(disgusted) i'm find the way to my duffed.\n",
      "homer_simpson: hey, i'm a little woman, let's get it!\n",
      "\n",
      "\n",
      "moe_szyslak:(incredulous) a choice.\n",
      "moe_szyslak: well, i can't believe what do you were going to work tonight.\n",
      "moe_szyslak: and forget it, homer.\n",
      "moe_szyslak: c'mom, use your wife... because i've never gonna have a feeling that right now.\n",
      "homer_simpson:(à la improv gasp) carl_carlson: uh, whoa! she doin' care!\n",
      "moe_szyslak: got a minute. wasn't a crab i knew when you beat\n"
     ]
    }
   ],
   "source": [
    "import tensorflow as tf\n",
    "gen_length = 200\n",
    "# homer_simpson, moe_szyslak, or Barney_Gumble\n",
    "prime_word = 'moe_szyslak'\n",
    "\n",
    "\"\"\"\n",
    "DON'T MODIFY ANYTHING IN THIS CELL THAT IS BELOW THIS LINE\n",
    "\"\"\"\n",
    "loaded_graph = tf.Graph()\n",
    "with tf.Session(graph=loaded_graph) as sess:\n",
    "    # Load saved model\n",
    "    loader = tf.train.import_meta_graph(load_dir + '.meta')\n",
    "    loader.restore(sess, load_dir)\n",
    "\n",
    "    # Get Tensors from loaded model\n",
    "    input_text, initial_state, final_state, probs = get_tensors(loaded_graph)\n",
    "\n",
    "    # Sentences generation setup\n",
    "    gen_sentences = [prime_word + ':']\n",
    "    prev_state = sess.run(initial_state, {input_text: np.array([[1]])})\n",
    "\n",
    "    # Generate sentences\n",
    "    for n in range(gen_length):\n",
    "        # Dynamic Input\n",
    "        dyn_input = [[vocab_to_int[word] for word in gen_sentences[-seq_length:]]]\n",
    "        dyn_seq_length = len(dyn_input[0])\n",
    "\n",
    "        # Get Prediction\n",
    "        probabilities, prev_state = sess.run(\n",
    "            [probs, final_state],\n",
    "            {input_text: dyn_input, initial_state: prev_state})\n",
    "        \n",
    "        pred_word = pick_word(probabilities[dyn_seq_length-1], int_to_vocab)\n",
    "\n",
    "        gen_sentences.append(pred_word)\n",
    "    \n",
    "    # Remove tokens\n",
    "    tv_script = ' '.join(gen_sentences)\n",
    "    for key, token in token_dict.items():\n",
    "        ending = ' ' if key in ['\\n', '(', '\"'] else ''\n",
    "        tv_script = tv_script.replace(' ' + token.lower(), key)\n",
    "    tv_script = tv_script.replace('\\n ', '\\n')\n",
    "    tv_script = tv_script.replace('( ', '(')\n",
    "        \n",
    "    print(tv_script)"
   ]
  },
  {
   "cell_type": "markdown",
   "metadata": {
    "deletable": true,
    "editable": true
   },
   "source": [
    "# The TV Script is Nonsensical\n",
    "It's ok if the TV script doesn't make any sense.  We trained on less than a megabyte of text.  In order to get good results, you'll have to use a smaller vocabulary or get more data.  Luckly there's more data!  As we mentioned in the begging of this project, this is a subset of [another dataset](https://www.kaggle.com/wcukierski/the-simpsons-by-the-data).  We didn't have you train on all the data, because that would take too long.  However, you are free to train your neural network on all the data.  After you complete the project, of course.\n",
    "# Submitting This Project\n",
    "When submitting this project, make sure to run all the cells before saving the notebook. Save the notebook file as \"dlnd_tv_script_generation.ipynb\" and save it as a HTML file under \"File\" -> \"Download as\". Include the \"helper.py\" and \"problem_unittests.py\" files in your submission."
   ]
  }
 ],
 "metadata": {
  "anaconda-cloud": {},
  "kernelspec": {
   "display_name": "Python [conda env:py35]",
   "language": "python",
   "name": "conda-env-py35-py"
  },
  "language_info": {
   "codemirror_mode": {
    "name": "ipython",
    "version": 3
   },
   "file_extension": ".py",
   "mimetype": "text/x-python",
   "name": "python",
   "nbconvert_exporter": "python",
   "pygments_lexer": "ipython3",
   "version": "3.5.2"
  }
 },
 "nbformat": 4,
 "nbformat_minor": 0
}
